{
 "cells": [
  {
   "cell_type": "code",
   "execution_count": null,
   "id": "46c5e8cf",
   "metadata": {
    "vscode": {
     "languageId": "plaintext"
    }
   },
   "outputs": [],
   "source": [
    "mongosh"
   ]
  },
  {
   "cell_type": "code",
   "execution_count": null,
   "id": "b0af0763",
   "metadata": {
    "vscode": {
     "languageId": "plaintext"
    }
   },
   "outputs": [],
   "source": [
    "show dbs"
   ]
  },
  {
   "cell_type": "code",
   "execution_count": null,
   "id": "61d2232b",
   "metadata": {
    "vscode": {
     "languageId": "plaintext"
    }
   },
   "outputs": [],
   "source": [
    "show collections"
   ]
  },
  {
   "cell_type": "code",
   "execution_count": null,
   "id": "0b1ca0d5",
   "metadata": {
    "vscode": {
     "languageId": "plaintext"
    }
   },
   "outputs": [],
   "source": [
    "db.books"
   ]
  },
  {
   "cell_type": "markdown",
   "id": "a46a1d9e",
   "metadata": {},
   "source": [
    "Insert commands"
   ]
  },
  {
   "cell_type": "code",
   "execution_count": null,
   "id": "e930269c",
   "metadata": {
    "vscode": {
     "languageId": "plaintext"
    }
   },
   "outputs": [],
   "source": [
    "// Insert a single book into the collection\n",
    "db.books.insertOne({\n",
    "  title: \"The Hobbit\",\n",
    "  author: \"J.R.R. Tolkien\",\n",
    "  pages: 295\n",
    "});\n",
    "\n",
    "// Find all books\n",
    "db.books.find();"
   ]
  },
  {
   "cell_type": "code",
   "execution_count": null,
   "id": "461d7820",
   "metadata": {
    "vscode": {
     "languageId": "plaintext"
    }
   },
   "outputs": [],
   "source": [
    "// In the Mongo shell (mongosh)\n",
    "\n",
    "// Create / use a database\n",
    "use libraryDB;\n",
    "\n",
    "// Insert a new book document\n",
    "db.books.insertOne({\n",
    "  title: \"Atomic Habits\",\n",
    "  author: \"James Clear\",\n",
    "  pages: 320\n",
    "});\n",
    "\n",
    "// Check the collection\n",
    "db.books.find();\n"
   ]
  },
  {
   "cell_type": "markdown",
   "id": "ff988049",
   "metadata": {},
   "source": [
    "sort and limit "
   ]
  },
  {
   "cell_type": "code",
   "execution_count": null,
   "id": "f60f9ad7",
   "metadata": {
    "vscode": {
     "languageId": "plaintext"
    }
   },
   "outputs": [],
   "source": [
    "db.books.insertMany([\n",
    "  { title: \"The Hobbit\", author: \"Tolkien\", pages: 295, rating: 4.8 },\n",
    "  { title: \"Harry Potter\", author: \"Rowling\", pages: 500, rating: 4.9 },\n",
    "  { title: \"Atomic Habits\", author: \"James Clear\", pages: 320, rating: 4.6 },\n",
    "  { title: \"Deep Work\", author: \"Cal Newport\", pages: 280, rating: 4.5 }\n",
    "]);\n"
   ]
  },
  {
   "cell_type": "code",
   "execution_count": null,
   "id": "cc927fe9",
   "metadata": {
    "vscode": {
     "languageId": "plaintext"
    }
   },
   "outputs": [],
   "source": [
    "db.books.find().sort({ pages: 1 });\n",
    "db.books.find().sort({ rating: -1 });\n",
    "db.books.find().sort({ rating: -1, title: 1 });\n"
   ]
  },
  {
   "cell_type": "code",
   "execution_count": null,
   "id": "5a83dea3",
   "metadata": {
    "vscode": {
     "languageId": "plaintext"
    }
   },
   "outputs": [],
   "source": [
    "db.books.find().limit(2);\n",
    "\n",
    "// Top 3 highest-rated books\n",
    "db.books.find().sort({ rating: -1 }).limit(3);\n"
   ]
  },
  {
   "cell_type": "code",
   "execution_count": null,
   "id": "9016c13d",
   "metadata": {
    "vscode": {
     "languageId": "plaintext"
    }
   },
   "outputs": [],
   "source": [
    "const Book = require('./models/book');\n",
    "\n",
    "// Get top 3 highest-rated books\n",
    "Book.find().sort({ rating: -1 }).limit(3)\n",
    "  .then(books => console.log(books))\n",
    "  .catch(err => console.error(err));\n"
   ]
  },
  {
   "cell_type": "markdown",
   "id": "c019b129",
   "metadata": {},
   "source": [
    "Filtering in MongoDB is done using query objects passed to .find().\n",
    "Query operators (like $gt, $lt, $in) allow you to match documents based on conditions."
   ]
  },
  {
   "cell_type": "markdown",
   "id": "a4ae3d7f",
   "metadata": {},
   "source": [
    "| Operator | Meaning                       | Example                                       |\n",
    "| -------- | ----------------------------- | --------------------------------------------- |\n",
    "| `$eq`    | Equal to                      | `{ pages: { $eq: 300 } }`                     |\n",
    "| `$ne`    | Not equal to                  | `{ author: { $ne: \"Tolkien\" } }`              |\n",
    "| `$gt`    | Greater than                  | `{ pages: { $gt: 300 } }`                     |\n",
    "| `$gte`   | Greater than or equal to      | `{ rating: { $gte: 4.5 } }`                   |\n",
    "| `$lt`    | Less than                     | `{ pages: { $lt: 300 } }`                     |\n",
    "| `$lte`   | Less than or equal to         | `{ rating: { $lte: 4.8 } }`                   |\n",
    "| `$in`    | Matches any value in an array | `{ author: { $in: [\"Rowling\", \"Tolkien\"] } }` |\n",
    "| `$nin`   | Not in                        | `{ author: { $nin: [\"Rowling\"] } }`           |\n"
   ]
  },
  {
   "cell_type": "code",
   "execution_count": null,
   "id": "842c73a6",
   "metadata": {
    "vscode": {
     "languageId": "plaintext"
    }
   },
   "outputs": [],
   "source": [
    "db.books.insertMany([\n",
    "  { title: \"The Hobbit\", author: \"Tolkien\", pages: 295, rating: 4.8 },\n",
    "  { title: \"Harry Potter\", author: \"Rowling\", pages: 500, rating: 4.9 },\n",
    "  { title: \"Atomic Habits\", author: \"James Clear\", pages: 320, rating: 4.6 },\n",
    "  { title: \"Deep Work\", author: \"Cal Newport\", pages: 280, rating: 4.5 },\n",
    "  { title: \"Digital Minimalism\", author: \"Cal Newport\", pages: 250, rating: 4.3 }\n",
    "]);\n"
   ]
  },
  {
   "cell_type": "code",
   "execution_count": null,
   "id": "0f3d7fee",
   "metadata": {
    "vscode": {
     "languageId": "plaintext"
    }
   },
   "outputs": [],
   "source": [
    "db.books.find({ pages: { $gt: 300 } });\n",
    "\n",
    "db.books.find({ author: \"Cal Newport\" });\n",
    "\n",
    "db.books.find({\n",
    "  rating: { $gte: 4.5, $lte: 4.8 }\n",
    "});\n",
    "\n",
    "db.books.find({ author: { $ne: \"Tolkien\" } });\n",
    "\n",
    "db.books.find({\n",
    "  author: { $in: [\"Rowling\", \"Tolkien\"] }\n",
    "});\n",
    "\n",
    "\n"
   ]
  },
  {
   "cell_type": "markdown",
   "id": "5a5d5d8d",
   "metadata": {},
   "source": [
    "Combining Filters with AND / OR"
   ]
  },
  {
   "cell_type": "code",
   "execution_count": null,
   "id": "b098898e",
   "metadata": {
    "vscode": {
     "languageId": "plaintext"
    }
   },
   "outputs": [],
   "source": [
    "db.books.find({\n",
    "  $and: [\n",
    "    { author: \"Cal Newport\" },\n",
    "    { rating: { $gt: 4.4 } }\n",
    "  ]\n",
    "});\n",
    "\n",
    "db.books.find({\n",
    "  $or: [\n",
    "    { author: \"Rowling\" },\n",
    "    { pages: { $lt: 300 } }\n",
    "  ]\n",
    "});\n",
    "\n",
    "// Find books whose titles start with \"D\"\n",
    "db.books.find({ title: /^D/ });\n"
   ]
  },
  {
   "cell_type": "code",
   "execution_count": null,
   "id": "9bf30c88",
   "metadata": {
    "vscode": {
     "languageId": "plaintext"
    }
   },
   "outputs": [],
   "source": [
    "Book.find({ rating: { $gte: 4.5 } })\n",
    "  .sort({ rating: -1 })\n",
    "  .limit(3)\n",
    "  .then(books => console.log(books))\n",
    "  .catch(err => console.error(err));\n"
   ]
  },
  {
   "cell_type": "markdown",
   "id": "55d0d203",
   "metadata": {},
   "source": [
    "Updating means modifying fields of existing documents in a collection using specific MongoDB update methods and operators."
   ]
  },
  {
   "cell_type": "markdown",
   "id": "2350a3e5",
   "metadata": {},
   "source": [
    "| Method                              | Description                                             |\n",
    "| ----------------------------------- | ------------------------------------------------------- |\n",
    "| `.updateOne(filter, update)`        | Updates the **first** matching document                 |\n",
    "| `.updateMany(filter, update)`       | Updates **all** matching documents                      |\n",
    "| `.replaceOne(filter, replacement)`  | Replaces an entire document                             |\n",
    "| `.findOneAndUpdate(filter, update)` | Updates a document and **returns** the modified version |\n"
   ]
  },
  {
   "cell_type": "markdown",
   "id": "f9004505",
   "metadata": {},
   "source": [
    "| Operator  | Description                         | Example                                 |\n",
    "| --------- | ----------------------------------- | --------------------------------------- |\n",
    "| `$set`    | Sets the value of a field           | `{ $set: { pages: 400 } }`              |\n",
    "| `$inc`    | Increments a field by a given value | `{ $inc: { pages: 10 } }`               |\n",
    "| `$rename` | Renames a field                     | `{ $rename: { rating: \"bookRating\" } }` |\n",
    "| `$unset`  | Removes a field                     | `{ $unset: { author: \"\" } }`            |\n",
    "| `$mul`    | Multiplies a numeric field          | `{ $mul: { pages: 2 } }`                |\n"
   ]
  },
  {
   "cell_type": "code",
   "execution_count": null,
   "id": "3cdfd078",
   "metadata": {
    "vscode": {
     "languageId": "plaintext"
    }
   },
   "outputs": [],
   "source": [
    "db.books.insertMany([\n",
    "  { title: \"The Hobbit\", author: \"Tolkien\", pages: 295, rating: 4.8 },\n",
    "  { title: \"Harry Potter\", author: \"Rowling\", pages: 500, rating: 4.9 },\n",
    "  { title: \"Atomic Habits\", author: \"James Clear\", pages: 320, rating: 4.6 },\n",
    "  { title: \"Deep Work\", author: \"Cal Newport\", pages: 280, rating: 4.5 },\n",
    "  { title: \"Digital Minimalism\", author: \"Cal Newport\", pages: 250, rating: 4.3 }\n",
    "]);\n"
   ]
  },
  {
   "cell_type": "code",
   "execution_count": null,
   "id": "f116d742",
   "metadata": {
    "vscode": {
     "languageId": "plaintext"
    }
   },
   "outputs": [],
   "source": [
    "db.books.updateOne(\n",
    "  { title: \"The Hobbit\" },\n",
    "  { $set: { pages: 300 } }\n",
    ");\n"
   ]
  },
  {
   "cell_type": "code",
   "execution_count": null,
   "id": "fe5b8d43",
   "metadata": {
    "vscode": {
     "languageId": "plaintext"
    }
   },
   "outputs": [],
   "source": [
    "db.books.updateMany(\n",
    "  { author: \"Cal Newport\" },\n",
    "  { $inc: { rating: 0.1 } }\n",
    ");\n"
   ]
  },
  {
   "cell_type": "code",
   "execution_count": null,
   "id": "203a1374",
   "metadata": {
    "vscode": {
     "languageId": "plaintext"
    }
   },
   "outputs": [],
   "source": [
    "db.books.updateMany({}, { $rename: { rating: \"bookRating\" } });\n"
   ]
  },
  {
   "cell_type": "code",
   "execution_count": null,
   "id": "4409090d",
   "metadata": {
    "vscode": {
     "languageId": "plaintext"
    }
   },
   "outputs": [],
   "source": [
    "db.books.updateOne(\n",
    "  { title: \"Atomic Habits\" },\n",
    "  { $unset: { author: \"\" } }\n",
    ");\n"
   ]
  },
  {
   "cell_type": "code",
   "execution_count": null,
   "id": "934c2bdf",
   "metadata": {
    "vscode": {
     "languageId": "plaintext"
    }
   },
   "outputs": [],
   "source": [
    "db.books.replaceOne(\n",
    "  { title: \"Deep Work\" },\n",
    "  { title: \"Deep Work (Revised Edition)\", author: \"Cal Newport\", pages: 300, rating: 4.7 }\n",
    ");\n"
   ]
  },
  {
   "cell_type": "markdown",
   "id": "4a70f445",
   "metadata": {},
   "source": [
    "Notes\n",
    "\n",
    "Always use $set to modify specific fields, otherwise the document may get replaced entirely.\n",
    "\n",
    "Updates are atomic — they either complete fully or not at all.\n",
    "\n",
    "Always double-check your filter in .updateMany() before running in production."
   ]
  },
  {
   "cell_type": "code",
   "execution_count": null,
   "id": "aff6152c",
   "metadata": {
    "vscode": {
     "languageId": "plaintext"
    }
   },
   "outputs": [],
   "source": [
    "const Book = require('./models/book');\n",
    "\n",
    "// Update pages for \"Atomic Habits\"\n",
    "Book.updateOne({ title: \"Atomic Habits\" }, { $set: { pages: 340 } })\n",
    "  .then(result => console.log(result))\n",
    "  .catch(err => console.error(err));\n",
    "\n",
    "// Increment ratings for Cal Newport books\n",
    "Book.updateMany({ author: \"Cal Newport\" }, { $inc: { rating: 0.1 } })\n",
    "  .then(result => console.log(result))\n",
    "  .catch(err => console.error(err));\n"
   ]
  },
  {
   "cell_type": "markdown",
   "id": "96dd0bf5",
   "metadata": {},
   "source": [
    "Deleting removes documents from a collection. MongoDB provides methods to remove single or multiple documents based on a filter."
   ]
  },
  {
   "cell_type": "markdown",
   "id": "9a81fb82",
   "metadata": {},
   "source": [
    "| Method                      | Description                                             |\n",
    "| --------------------------- | ------------------------------------------------------- |\n",
    "| `.deleteOne(filter)`        | Deletes the **first** document that matches the filter  |\n",
    "| `.deleteMany(filter)`       | Deletes **all** documents that match the filter         |\n",
    "| `.findOneAndDelete(filter)` | Deletes a document and **returns** the deleted document |\n"
   ]
  },
  {
   "cell_type": "code",
   "execution_count": null,
   "id": "e3f41e10",
   "metadata": {
    "vscode": {
     "languageId": "plaintext"
    }
   },
   "outputs": [],
   "source": [
    "db.books.insertMany([\n",
    "  { title: \"The Hobbit\", author: \"Tolkien\", pages: 295 },\n",
    "  { title: \"Harry Potter\", author: \"Rowling\", pages: 500 },\n",
    "  { title: \"Atomic Habits\", author: \"James Clear\", pages: 320 },\n",
    "  { title: \"Deep Work\", author: \"Cal Newport\", pages: 280 },\n",
    "  { title: \"Digital Minimalism\", author: \"Cal Newport\", pages: 250 }\n",
    "]);\n"
   ]
  },
  {
   "cell_type": "code",
   "execution_count": null,
   "id": "044d9827",
   "metadata": {
    "vscode": {
     "languageId": "plaintext"
    }
   },
   "outputs": [],
   "source": [
    "db.books.deleteOne({ title: \"Atomic Habits\" });\n",
    "db.books.deleteMany({ author: \"Cal Newport\" });\n",
    "db.books.findOneAndDelete({ title: \"The Hobbit\" });\n"
   ]
  },
  {
   "cell_type": "code",
   "execution_count": null,
   "id": "06a0fd5d",
   "metadata": {
    "vscode": {
     "languageId": "plaintext"
    }
   },
   "outputs": [],
   "source": [
    "const Book = require('./models/book');\n",
    "\n",
    "// Delete a single book\n",
    "Book.deleteOne({ title: \"Atomic Habits\" })\n",
    "  .then(result => console.log(result))\n",
    "  .catch(err => console.error(err));\n",
    "\n",
    "// Delete multiple books by Cal Newport\n",
    "Book.deleteMany({ author: \"Cal Newport\" })\n",
    "  .then(result => console.log(result))\n",
    "  .catch(err => console.error(err));\n"
   ]
  },
  {
   "cell_type": "markdown",
   "id": "46547850",
   "metadata": {},
   "source": [
    "Notes\n",
    "\n",
    "Filters are crucial: Be careful with .deleteMany({}) as it will remove all documents.\n",
    "\n",
    ".findOneAndDelete() is useful when you want to see the deleted document (e.g., for logging).\n",
    "\n",
    "We’ve now covered CRUD basics:\n",
    "\n",
    "Create → insertOne / insertMany\n",
    "\n",
    "Read → find / filters / sorting / limiting\n",
    "\n",
    "Update → updateOne / updateMany / operators\n",
    "\n",
    "Delete → deleteOne / deleteMany / findOneAndDelete"
   ]
  }
 ],
 "metadata": {
  "language_info": {
   "name": "python"
  }
 },
 "nbformat": 4,
 "nbformat_minor": 5
}
